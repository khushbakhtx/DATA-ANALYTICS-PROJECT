{
 "cells": [
  {
   "cell_type": "code",
   "execution_count": 9,
   "metadata": {},
   "outputs": [
    {
     "name": "stdout",
     "output_type": "stream",
     "text": [
      "<class 'pandas.core.frame.DataFrame'>\n",
      "RangeIndex: 200000 entries, 0 to 199999\n",
      "Data columns (total 5 columns):\n",
      " #   Column     Non-Null Count   Dtype  \n",
      "---  ------     --------------   -----  \n",
      " 0   SalesId    200000 non-null  int64  \n",
      " 1   ProductId  200000 non-null  int64  \n",
      " 2   Date       200000 non-null  object \n",
      " 3   UnitPrice  200000 non-null  float64\n",
      " 4   Quantity   200000 non-null  int64  \n",
      "dtypes: float64(1), int64(3), object(1)\n",
      "memory usage: 7.6+ MB\n"
     ]
    }
   ],
   "source": [
    "import pandas as pd\n",
    "import numpy as np\n",
    "df_sales = pd.read_csv('./source/sales.csv')\n",
    "df_sales.info()"
   ]
  },
  {
   "cell_type": "code",
   "execution_count": 10,
   "metadata": {},
   "outputs": [
    {
     "name": "stdout",
     "output_type": "stream",
     "text": [
      "<class 'pandas.core.frame.DataFrame'>\n",
      "RangeIndex: 200000 entries, 0 to 199999\n",
      "Data columns (total 5 columns):\n",
      " #   Column     Non-Null Count   Dtype  \n",
      "---  ------     --------------   -----  \n",
      " 0   SalesId    200000 non-null  int32  \n",
      " 1   ProductId  200000 non-null  int64  \n",
      " 2   Date       200000 non-null  object \n",
      " 3   UnitPrice  200000 non-null  float64\n",
      " 4   Quantity   200000 non-null  int64  \n",
      "dtypes: float64(1), int32(1), int64(2), object(1)\n",
      "memory usage: 6.9+ MB\n",
      "None\n"
     ]
    },
    {
     "data": {
      "text/html": [
       "<div>\n",
       "<style scoped>\n",
       "    .dataframe tbody tr th:only-of-type {\n",
       "        vertical-align: middle;\n",
       "    }\n",
       "\n",
       "    .dataframe tbody tr th {\n",
       "        vertical-align: top;\n",
       "    }\n",
       "\n",
       "    .dataframe thead th {\n",
       "        text-align: right;\n",
       "    }\n",
       "</style>\n",
       "<table border=\"1\" class=\"dataframe\">\n",
       "  <thead>\n",
       "    <tr style=\"text-align: right;\">\n",
       "      <th></th>\n",
       "      <th>SalesId</th>\n",
       "      <th>ProductId</th>\n",
       "      <th>Date</th>\n",
       "      <th>UnitPrice</th>\n",
       "      <th>Quantity</th>\n",
       "    </tr>\n",
       "  </thead>\n",
       "  <tbody>\n",
       "    <tr>\n",
       "      <th>0</th>\n",
       "      <td>110416</td>\n",
       "      <td>590</td>\n",
       "      <td>2019-12-02</td>\n",
       "      <td>0.0525</td>\n",
       "      <td>93</td>\n",
       "    </tr>\n",
       "    <tr>\n",
       "      <th>1</th>\n",
       "      <td>172503</td>\n",
       "      <td>390</td>\n",
       "      <td>2017-11-19</td>\n",
       "      <td>5.1100</td>\n",
       "      <td>28</td>\n",
       "    </tr>\n",
       "    <tr>\n",
       "      <th>2</th>\n",
       "      <td>28404</td>\n",
       "      <td>883</td>\n",
       "      <td>2020-07-13</td>\n",
       "      <td>7.3675</td>\n",
       "      <td>33</td>\n",
       "    </tr>\n",
       "    <tr>\n",
       "      <th>3</th>\n",
       "      <td>139411</td>\n",
       "      <td>658</td>\n",
       "      <td>2019-05-12</td>\n",
       "      <td>2.0825</td>\n",
       "      <td>76</td>\n",
       "    </tr>\n",
       "    <tr>\n",
       "      <th>4</th>\n",
       "      <td>32866</td>\n",
       "      <td>632</td>\n",
       "      <td>2020-07-20</td>\n",
       "      <td>0.6475</td>\n",
       "      <td>8</td>\n",
       "    </tr>\n",
       "  </tbody>\n",
       "</table>\n",
       "</div>"
      ],
      "text/plain": [
       "   SalesId  ProductId        Date  UnitPrice  Quantity\n",
       "0   110416        590  2019-12-02     0.0525        93\n",
       "1   172503        390  2017-11-19     5.1100        28\n",
       "2    28404        883  2020-07-13     7.3675        33\n",
       "3   139411        658  2019-05-12     2.0825        76\n",
       "4    32866        632  2020-07-20     0.6475         8"
      ]
     },
     "execution_count": 10,
     "metadata": {},
     "output_type": "execute_result"
    }
   ],
   "source": [
    "unique_ids = np.random.permutation(len(df_sales)) + 1\n",
    "df_sales['SalesId'] = unique_ids\n",
    "print(df_sales.info())\n",
    "\n",
    "df_sales.head()"
   ]
  },
  {
   "cell_type": "code",
   "execution_count": 11,
   "metadata": {},
   "outputs": [],
   "source": [
    "df_sales.to_csv('sales.csv', index=False)"
   ]
  },
  {
   "cell_type": "code",
   "execution_count": null,
   "metadata": {},
   "outputs": [],
   "source": []
  }
 ],
 "metadata": {
  "kernelspec": {
   "display_name": ".venv",
   "language": "python",
   "name": "python3"
  },
  "language_info": {
   "codemirror_mode": {
    "name": "ipython",
    "version": 3
   },
   "file_extension": ".py",
   "mimetype": "text/x-python",
   "name": "python",
   "nbconvert_exporter": "python",
   "pygments_lexer": "ipython3",
   "version": "3.12.2"
  }
 },
 "nbformat": 4,
 "nbformat_minor": 2
}
